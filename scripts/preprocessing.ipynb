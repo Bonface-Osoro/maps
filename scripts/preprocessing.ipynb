{
 "cells": [
  {
   "cell_type": "markdown",
   "id": "eaac92ae-1e5b-4fcf-a05f-76de0fe814d6",
   "metadata": {},
   "source": [
    "This is a script for pre-processing patient-pharmacy visit data."
   ]
  },
  {
   "cell_type": "code",
   "execution_count": 16,
   "id": "10653db8-ffdd-4180-a8ba-66db7e0c7e7d",
   "metadata": {},
   "outputs": [],
   "source": [
    "import os\n",
    "import configparser\n",
    "import warnings\n",
    "import pandas as pd\n",
    "from geopy.geocoders import Nominatim\n",
    "from geopy.extra.rate_limiter import RateLimiter\n",
    "from tqdm import tqdm\n",
    "\n",
    "warnings.filterwarnings('ignore')\n",
    "pd.options.mode.chained_assignment = None "
   ]
  },
  {
   "cell_type": "markdown",
   "id": "a64cc73f-c2bf-43ce-9b3e-dd7402981de6",
   "metadata": {},
   "source": [
    "Define the folder paths."
   ]
  },
  {
   "cell_type": "code",
   "execution_count": 2,
   "id": "986fc7b0-5091-45c1-9a9f-5986843769a8",
   "metadata": {},
   "outputs": [],
   "source": [
    "BASE_DIR = os.getcwd()\n",
    "CONFIG = configparser.ConfigParser()\n",
    "CONFIG.read(os.path.join(BASE_DIR, 'script_config.ini'))\n",
    "\n",
    "BASE_PATH = os.path.abspath(os.path.join(os.getcwd(), '..', 'data'))\n",
    "\n",
    "DATA_RAW = os.path.join(BASE_PATH, 'raw')\n",
    "DATA_RESULTS = os.path.join(BASE_PATH, '..', 'results')"
   ]
  },
  {
   "cell_type": "markdown",
   "id": "b5837ad4-afc0-4a59-93f0-8bee2a8a681f",
   "metadata": {},
   "source": [
    "Read the raw pharmacy data."
   ]
  },
  {
   "cell_type": "code",
   "execution_count": 25,
   "id": "78eef557-16f2-4040-9cd2-60c813a18e6a",
   "metadata": {},
   "outputs": [],
   "source": [
    "data_path = os.path.join(DATA_RAW, 'avondale_pharmacies.csv')\n",
    "df = pd.read_csv(data_path)\n",
    "df = df[['Pts adrees', 'PatAge', 'PatRace', 'PatInsuranceType', \n",
    "         'PatSex', 'PatPrefPharmZIP', 'PatPrefPharmacyName',\n",
    "         'AltevPrefferedPharmacyFlag Tru']]\n",
    "df['counts'] = 1"
   ]
  },
  {
   "cell_type": "markdown",
   "id": "ec31de68-9ce6-40cc-881e-1db12b4f1459",
   "metadata": {},
   "source": [
    "We preprocess the age distribution by grouping them into bins. "
   ]
  },
  {
   "cell_type": "code",
   "execution_count": 34,
   "id": "92f99599-0927-41e2-90cd-08d48b846ea1",
   "metadata": {},
   "outputs": [],
   "source": [
    "bins = [18, 35, 45, 60, 75, float('inf')]\n",
    "labels = ['18 - 35 years', '36 - 45 years', \n",
    "          '46 - 60 years', '61 - 75 years', 'Over 75 years']\n",
    "df['age_group'] = pd.cut(df['PatAge'], bins = bins, labels = \n",
    "            labels, right = True, include_lowest = True)"
   ]
  },
  {
   "cell_type": "code",
   "execution_count": 49,
   "id": "ec47027a-9004-4d09-96df-e5f074418df8",
   "metadata": {},
   "outputs": [],
   "source": [
    "data_path = os.path.join(DATA_RESULTS, 'pharmacies_geocoded.csv')\n",
    "dff = pd.read_csv(data_path)\n",
    "bins = [0, 10, 40, float('inf')]\n",
    "labels = ['1 to 10', '11 to 40', 'Over 40']\n",
    "dff['visit_count'] = pd.cut(dff['counts'], bins = bins, labels = \n",
    "            labels, right = True, include_lowest = True)\n",
    "filename = 'pharmacies_geocoded.csv'\n",
    "path_out = os.path.join(DATA_RESULTS, filename)\n",
    "dff.to_csv(path_out, index = False)"
   ]
  },
  {
   "cell_type": "markdown",
   "id": "20fb1608-0e56-4530-a3d8-38bedf40d0af",
   "metadata": {},
   "source": [
    "## Group by names"
   ]
  },
  {
   "cell_type": "code",
   "execution_count": 30,
   "id": "d4ef5486-97bb-4acb-8195-5aca4a9cd6b5",
   "metadata": {},
   "outputs": [],
   "source": [
    "df1 = df.groupby(['PatPrefPharmZIP', 'PatPrefPharmacyName',])['counts'].sum().reset_index()\n",
    "df1['state'] = 'Ohio'"
   ]
  },
  {
   "cell_type": "markdown",
   "id": "0977fdc0-25f0-4e98-aa9b-51e7f91b3086",
   "metadata": {},
   "source": [
    "#### Address Geocoding"
   ]
  },
  {
   "cell_type": "markdown",
   "id": "96ea91e4-fbaf-4948-bae4-f2eda453fadc",
   "metadata": {},
   "source": [
    "First we initialize the geocode and include the rate limiter to avoid getting blocked."
   ]
  },
  {
   "cell_type": "code",
   "execution_count": 27,
   "id": "41f045c3-6bcd-4afb-86dd-63da791b0f13",
   "metadata": {},
   "outputs": [],
   "source": [
    "geolocator = Nominatim(user_agent = 'pharmacy_geocoder', timeout = 10)\n",
    "geocode = RateLimiter(geolocator.geocode, min_delay_seconds = 2,        \n",
    "    max_retries = 3, error_wait_seconds=5.0)\n",
    "#df1['address'] = df1['Pts adrees'].astype(str)"
   ]
  },
  {
   "cell_type": "code",
   "execution_count": 28,
   "id": "643f4da7-5013-403d-947e-4652d3e789e1",
   "metadata": {},
   "outputs": [
    {
     "name": "stderr",
     "output_type": "stream",
     "text": [
      "100%|██████████████████████████████████████████████████████████████████████████████████████████| 88/88 [03:32<00:00,  2.42s/it]\n"
     ]
    }
   ],
   "source": [
    "tqdm.pandas()\n",
    "df1['location'] = df1['PatPrefPharmacyName'].progress_apply(geocode)"
   ]
  },
  {
   "cell_type": "markdown",
   "id": "4f06da9f-c2ac-48a4-b5e0-1deeb46bb1af",
   "metadata": {},
   "source": [
    "We then extract the latitude and longitudes."
   ]
  },
  {
   "cell_type": "code",
   "execution_count": 29,
   "id": "11928650-3b1b-4e17-89dd-ae796996467e",
   "metadata": {},
   "outputs": [],
   "source": [
    "df1['latitude'] = df1['location'].apply(lambda loc: loc.latitude if loc else None)\n",
    "df1['longitude'] = df1['location'].apply(lambda loc: loc.longitude if loc else None)\n",
    "filename = 'pharmacy_names.csv'\n",
    "path_out = os.path.join(DATA_RESULTS, filename)\n",
    "df1.to_csv(path_out, index = False)"
   ]
  },
  {
   "cell_type": "code",
   "execution_count": 31,
   "id": "9310d12e-387b-4837-b090-911e9b6d5bfc",
   "metadata": {},
   "outputs": [],
   "source": [
    "path_out = os.path.join(DATA_RESULTS, filename)\n",
    "df1.to_csv(path_out, index = False)"
   ]
  },
  {
   "cell_type": "markdown",
   "id": "aba78a8c-0300-4110-ba5c-42b983cc1a68",
   "metadata": {},
   "source": [
    "## Group by Race"
   ]
  },
  {
   "cell_type": "code",
   "execution_count": 35,
   "id": "1d772dc1-5f3f-4a07-8e43-e1ba4057a3c8",
   "metadata": {},
   "outputs": [],
   "source": [
    "df2 = df.groupby(['PatRace', 'age_group'])['counts'].sum().reset_index()\n",
    "\n",
    "filename = 'pharmacy_race.csv'\n",
    "path_out = os.path.join(DATA_RESULTS, filename)\n",
    "df2.to_csv(path_out, index = False)"
   ]
  },
  {
   "cell_type": "markdown",
   "id": "5092c436-b5c0-46dd-9a27-3b356131add6",
   "metadata": {},
   "source": [
    "## Group by Sex"
   ]
  },
  {
   "cell_type": "code",
   "execution_count": 36,
   "id": "60b379fe-b69c-4956-b8f9-1069373f209d",
   "metadata": {},
   "outputs": [],
   "source": [
    "df3 = df.groupby(['PatSex', 'age_group'])['counts'].sum().reset_index()\n",
    "\n",
    "filename = 'pharmacy_sex.csv'\n",
    "path_out = os.path.join(DATA_RESULTS, filename)\n",
    "df3.to_csv(path_out, index = False)"
   ]
  },
  {
   "cell_type": "markdown",
   "id": "0be3ad21-7d70-4ebf-9eaa-4a4ba8fcf13a",
   "metadata": {},
   "source": [
    "## Group by Age"
   ]
  },
  {
   "cell_type": "code",
   "execution_count": 38,
   "id": "7cc1e883-8eed-4546-813b-3a9ce404dd69",
   "metadata": {},
   "outputs": [],
   "source": [
    "df4 = df.groupby(['PatInsuranceType', 'age_group'])['counts'].sum().reset_index()\n",
    "\n",
    "filename = 'pharmacy_age.csv'\n",
    "path_out = os.path.join(DATA_RESULTS, filename)\n",
    "df4.to_csv(path_out, index = False)"
   ]
  }
 ],
 "metadata": {
  "kernelspec": {
   "display_name": "Python 3 (ipykernel)",
   "language": "python",
   "name": "python3"
  },
  "language_info": {
   "codemirror_mode": {
    "name": "ipython",
    "version": 3
   },
   "file_extension": ".py",
   "mimetype": "text/x-python",
   "name": "python",
   "nbconvert_exporter": "python",
   "pygments_lexer": "ipython3",
   "version": "3.12.2"
  }
 },
 "nbformat": 4,
 "nbformat_minor": 5
}
